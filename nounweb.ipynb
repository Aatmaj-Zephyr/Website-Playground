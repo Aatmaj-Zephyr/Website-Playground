{
 "cells": [
  {
   "cell_type": "markdown",
   "metadata": {},
   "source": [
    "### NOUNWEB\n",
    "\n",
    "\n",
    "Lexographical analysis of words has many applications in the field of natural language processing. It includes verious use cases in areas like word recommendation,  synsets, word priming, etc. In this project, the author aims at creating a network of nouns based on lexographical methodology. Data of nouns is extracted from the oxford english dictionary. This data is organized into a network of nouns. Then, various community detection algorithms are run on  the network to generate 'synsets'. A synset is set of one or more synonyms that are interchangeable in some context without changing the truth value of the proposition in which they are embedded.\n",
    "\n",
    "\n",
    "A* algorithm is used for finding path between two nouns. This might be useful for applications like 'find the odd man out'. Applications of this dataset may extend to keyboard autocomplete, word priming and natural language processing."
   ]
  },
  {
   "cell_type": "markdown",
   "metadata": {},
   "source": [
    "### Dictionary Data extraction"
   ]
  },
  {
   "cell_type": "markdown",
   "metadata": {},
   "source": [
    "Let us first parse the 'oxford english dictionary'. We shall extract all nouns from the file and place them in a csv files. This extraction is based on the noun defination in the dictionary.\n",
    "\n",
    "\n",
    "After that, we shall extract the nouns from the information in the dictionary and place them adjucent to the corresponding noun. The second extraction is based on the list of most popular nouns. Possible applications include keyboard writing suggestions, natural language processing and word priming."
   ]
  },
  {
   "cell_type": "markdown",
   "metadata": {},
   "source": [
    "\n",
    "Example\n",
    "\n",
    "<b>Apple</b>  n. 1 roundish <b>firm</b> <b>fruit</b> with <b>crisp</b> <b>flesh</b>. 2 <b>tree</b> bearing this.  <b>apple</b> of one's eye cherished <b>person</b> or <b>thing</b>. [old english]\n",
    "\n",
    "\n",
    "Output file\n",
    "\n",
    "apple apple firm fruit crisp flesh tree apple person thing \n"
   ]
  },
  {
   "cell_type": "code",
   "execution_count": 28,
   "metadata": {},
   "outputs": [],
   "source": [
    "Oxford = open('Oxford English Dictionary.txt', 'r') # Reading mode\n",
    "csv = open('nounlist.csv','r') # list of commonly uses nouns.\n",
    "save = open(\"myfile.txt\", \"w\") # file to store nounweb\n",
    "\n",
    "nodes_list = [] \n",
    "#Empty list to store nodes of nounweb\n",
    "\n",
    "#make list of commonly used nouns\n",
    "nlist=[] #empty list used to store the nouns whih appear in oxford dictionary.\n",
    "for noun in csv:\n",
    "    noun = noun[:-1].lower()  # remove \\n\n",
    "    # print(noun)\n",
    "    nlist.append(noun)\n",
    "#print(nlist)\n",
    "\n",
    "import re # import regex\n",
    "#Creating a nounweb.\n",
    "for line in Oxford:\n",
    "    # Skipping the empty lines.\n",
    "    if(line=='\\n'):\n",
    "        continue\n",
    "\n",
    "    # Removing the brackets and numbers from the text using REGEX.\n",
    "    line=re.sub(\"([\\(\\[]).*?([\\)\\]])\", \"\", line) # remove [] brackets\n",
    "    line=re.sub(\"[0-9]\",\"\",line) # remove number instances\n",
    "    line=line.split(\" \") # remove\n",
    "    if (line == '\\n'):\n",
    "        continue\n",
    "\n",
    "\n",
    "    '''\n",
    "    NOTE-\n",
    "    There may be repeated words. Look \"wow\"\n",
    "    '''\n",
    "\n",
    "\n",
    "    # Taking the first word of the line and converting it to lower case.\n",
    "    node=line[0:1][0].lower()\n",
    "    #print(node)\n",
    "\n",
    "    if(len(node)>3): # remove too short words\n",
    "        if(line[2:3][0]=='n.' or line[2:3][0]=='-n.' ): # consider only noun uses\n",
    "\n",
    "            nodes_list.append(node) # add the noun to the list of nodes for making nounweb.\n",
    "\n",
    "            # Writing the node and a space to the file.\n",
    "            save.write(node)\n",
    "            save.write(\" \")\n",
    "\n",
    "\n",
    "            #adding connections to the node. This makes neighbors of the node. \n",
    "            '''\n",
    "            This saves into the file myfile.txt.\n",
    "\n",
    "            Sample\n",
    "\n",
    "            alley alley street enclosure walk lane park \n",
    "            alliance alliance union agreement treaty marriage coalition party friendship \n",
    "            alligator alligator crocodile family head\n",
    "            '''\n",
    "\n",
    "            for word in line: # split  space\n",
    "                if(len(word)>3): # remove too short words\n",
    "\n",
    "                    # Removing fullstop and comma from the word and converting it to lower case.\n",
    "                    word=word.replace(\".\",\"\") # remove fullstop\n",
    "                    word=word.replace(\".\",\"\") # remove comma\n",
    "                    word=word.lower() # lower case\n",
    "\n",
    "                    semalist=[] # list to store the connections\n",
    "                    if(word in nlist):\n",
    "                        #if word is in commonly used nouns list then append to the neighbors list.\n",
    "                        semalist.append(word)\n",
    "\n",
    "                    # Checking if the list is empty. If it is empty then it will not write anything to\n",
    "                    # the file, else it will write the neighbors into the file.\n",
    "                    if(len(semalist)==0):\n",
    "                        continue\n",
    "\n",
    "                    save.write(\"\".join(semalist))\n",
    "                    save.write(\" \")\n",
    "            save.write('\\n') # write newline to file.\n",
    "save.close() # close the file.\n",
    "\n"
   ]
  },
  {
   "cell_type": "markdown",
   "metadata": {},
   "source": [
    "### Graph analysis"
   ]
  },
  {
   "cell_type": "markdown",
   "metadata": {},
   "source": [
    "Making networkx Graph from the file of nounweb."
   ]
  },
  {
   "cell_type": "code",
   "execution_count": 29,
   "metadata": {},
   "outputs": [
    {
     "name": "stdout",
     "output_type": "stream",
     "text": [
      "Graph with 16098 nodes and 34072 edges\n"
     ]
    }
   ],
   "source": [
    "import networkx as nx\n",
    "\n",
    "G = nx.Graph()\n",
    "\n",
    "file=open(\"myfile.txt\") # file containing nounweb \n",
    "\n",
    "# Adding nodes and edges to the graph.\n",
    "for line in file:\n",
    "    line=line.split(\" \")\n",
    "    G.add_node(line[0]) # add node to networkx graph\n",
    "    for word in line:\n",
    "        if(word!='\\n'):\n",
    "            G.add_edge(line[0], word) # add edge to networkx graph\n",
    "            #print(word)\n",
    "\n",
    "G.remove_edges_from(nx.selfloop_edges(G)) # remove self loops from networkx graph\n",
    "\n",
    "print(G) # print graph"
   ]
  },
  {
   "cell_type": "markdown",
   "metadata": {},
   "source": [
    "Visulalizing the graph for some sample points."
   ]
  },
  {
   "cell_type": "code",
   "execution_count": 50,
   "metadata": {},
   "outputs": [
    {
     "data": {
      "image/png": "[encoded data removed]",
      "text/plain": [
       "<Figure size 432x288 with 1 Axes>"
      ]
     },
     "metadata": {},
     "output_type": "display_data"
    }
   ],
   "source": [
    "H = G.subgraph([\"apple\",\"tree\",\"fruit\",\"wood\",\"yellow\",\"pineapple\",\"mango\",\"banana\",\"plant\",\"pear\",\"sapling\",\"peach\"])\n",
    "nx.draw_spring(H,with_labels=True,node_size=400,font_size=12,node_color=\"whitesmoke\", font_color=\"red\")"
   ]
  },
  {
   "cell_type": "code",
   "execution_count": 31,
   "metadata": {},
   "outputs": [
    {
     "name": "stdout",
     "output_type": "stream",
     "text": [
      "{'lot': {}, 'wealth': {}, 'amplitude': {}, 'avalanche': {}, 'eldorado': {}, 'plenitude': {}, 'quantity': {}}\n"
     ]
    }
   ],
   "source": [
    "print(G[\"abundance\"])"
   ]
  },
  {
   "cell_type": "code",
   "execution_count": 32,
   "metadata": {},
   "outputs": [
    {
     "name": "stdout",
     "output_type": "stream",
     "text": [
      "0.0002629727546348967\n"
     ]
    }
   ],
   "source": [
    "print(nx.density(G)) # density of the graph"
   ]
  },
  {
   "cell_type": "markdown",
   "metadata": {},
   "source": [
    "#### Finding the most influential nodes amoung the graph using centrality measures. "
   ]
  },
  {
   "cell_type": "markdown",
   "metadata": {},
   "source": [
    "Let's find the most central nodes in the graph. Every graph has a few central points, that is the nodes which are the most connected to other nodes. These nodes are the most influential points in the graph. So we can say that these nodes, or in this case nouns are the most important nouns in the english dictionary."
   ]
  },
  {
   "cell_type": "markdown",
   "metadata": {},
   "source": [
    "<b>What is degree centrality?</b>\n",
    "\n",
    "We are going to use degree centrality as the centrality measure to find our how much a node is connected to other nodes. \n",
    "\n",
    "> Degree centrality is one of the easiest to calculate. The degree centrality of a node is simply its degree—the number of edges it has. The higher the degree, the more central the node is. This can be an effective measure, since many nodes with high degrees also have high centrality by other measures- _Jennifer Golbeck, in Analyzing the Social Web, 2013_"
   ]
  },
  {
   "cell_type": "code",
   "execution_count": 33,
   "metadata": {},
   "outputs": [],
   "source": [
    "def find_central_node(G):\n",
    "    return nx.degree_centrality(G)\n",
    "\n",
    "x=find_central_node(G) #fining the most influential node using the required measure\n",
    "x=sorted(x.items(), key=lambda item: item[-1])[::-1] #sort"
   ]
  },
  {
   "cell_type": "markdown",
   "metadata": {},
   "source": [
    "We find that most influential node in our nounweb is 'person'"
   ]
  },
  {
   "cell_type": "code",
   "execution_count": 34,
   "metadata": {},
   "outputs": [
    {
     "name": "stdout",
     "output_type": "stream",
     "text": [
      "person\n"
     ]
    }
   ],
   "source": [
    "print(x[0][0])#most influential node."
   ]
  },
  {
   "cell_type": "markdown",
   "metadata": {},
   "source": [
    "Let's write the words depending upon the influence order into a seprate file"
   ]
  },
  {
   "cell_type": "code",
   "execution_count": 35,
   "metadata": {},
   "outputs": [],
   "source": [
    "# Writing the influential nodes to a csv file.\n",
    "Influence_order=open(\"mostinfluential.csv\",\"w\")\n",
    "for i in x:\n",
    "    Influence_order.write(str(i[0]))\n",
    "    Influence_order.write(\",\")\n",
    "    Influence_order.write(str(i[1]))\n",
    "    Influence_order.write(\"\\n\")\n",
    "Influence_order.close()"
   ]
  },
  {
   "cell_type": "code",
   "execution_count": 36,
   "metadata": {},
   "outputs": [
    {
     "name": "stdout",
     "output_type": "stream",
     "text": [
      "[('person', 0.07318133813754116), ('thing', 0.026464558613406224), ('being', 0.024849350810710068), ('plant', 0.018699136485059328), ('part', 0.01708392868236317), ('body', 0.013853513076970863), ('member', 0.009691246816176927), ('piece', 0.009629123439150152), ('device', 0.009504876685096602), ('place', 0.009132136422935951)]\n"
     ]
    }
   ],
   "source": [
    "#Print the first 10 most influential nodes with degree centrality.\n",
    "print(x[0:10])"
   ]
  },
  {
   "cell_type": "markdown",
   "metadata": {},
   "source": [
    "#### Path from one word to another"
   ]
  },
  {
   "cell_type": "markdown",
   "metadata": {},
   "source": [
    "Here we use a simple formula to find the distance of a path from one node to other.\n",
    "\n",
    "\n",
    "$d=\\sum_{}\\frac{C_{\\max}}{C_i}$\n",
    "\n",
    "\n",
    "Where $d$ is the distance, $C_{\\max}$ is the maximum centrality of the graph ( here 'person'). $C_i$ is the degree centrality over all the nodes in the path.\n",
    "\n",
    "\n",
    "This is a very rough measure to find a quantitive score of distance between two nodes.\n",
    "\n",
    "We can use this to find how similar or dissimilar two nouns are."
   ]
  },
  {
   "cell_type": "code",
   "execution_count": 37,
   "metadata": {},
   "outputs": [],
   "source": [
    "Centrality=nx.degree_centrality(G)\n",
    "def calculate_dist(paths):\n",
    "    \"\"\"\n",
    "    It calculates the sum of the degrees of all the nodes in the path.\n",
    "    A very rough measure. \n",
    "    \n",
    "    :param paths: a list of nodes that are in the path\n",
    "    :return: The sum of the number of neighbors of each node in the path.\n",
    "    \"\"\"\n",
    "    sum=0\n",
    "    for i in list(paths):\n",
    "        sum=sum+Centrality['person']/Centrality[i]\n",
    "    return sum"
   ]
  },
  {
   "cell_type": "markdown",
   "metadata": {},
   "source": [
    "We find the shortest path between two nodes using the 'A*' algorithm. The A* algorithm was selected due to it's low time complexity. In simple words, other algotithms were taking a long time to compute.\n",
    "\n",
    "A* algorithm works on the principle of maximizing the sum of two parameters. One being distance between starting node and current node and other being distance between the destination node and current node."
   ]
  },
  {
   "cell_type": "code",
   "execution_count": 38,
   "metadata": {},
   "outputs": [
    {
     "name": "stdout",
     "output_type": "stream",
     "text": [
      "mango->fruit->tomato->642.9916666666668\n",
      "tree->crab->food->growth->gall->oak->1691.595152423788\n"
     ]
    }
   ],
   "source": [
    "def compare(noun1,noun2): # function to compare two nouns in math between two nouns and distance of the path.\n",
    "    '''\n",
    "    prints out the path  between the two nodes, neighbors\n",
    "    of the nodes and distance between the nodes.\n",
    "    :param noun1, noun2 two nouns\n",
    "    :return: none\n",
    "    \n",
    "    '''\n",
    "    # Finding the path between the two nodes using astar algorithm.\n",
    "    paths = nx.astar_path(G,source=noun1,target=noun2) \n",
    "    for i in list(paths):\n",
    "        print(i,end=\"->\")\n",
    "    print(calculate_dist(paths))\n",
    "    \n",
    "\n",
    "compare(\"mango\", \"tomato\")\n",
    "compare(\"tree\",\"oak\")\n"
   ]
  },
  {
   "cell_type": "markdown",
   "metadata": {},
   "source": [
    "Let's calculate path from one noun to the other.\n",
    "\n",
    "By finding the parth length we can check if two nouns are similar or dissimilar. Example the nouns \"milk\" and cheese\" are similar when compared to the nouns \"milk\" and \"car\", which must be far apart."
   ]
  },
  {
   "cell_type": "code",
   "execution_count": 39,
   "metadata": {},
   "outputs": [
    {
     "name": "stdout",
     "output_type": "stream",
     "text": [
      "milk->cheese->91.15476190476191\n",
      "milk->casein->main->trunk->car->570.4885714285714\n"
     ]
    }
   ],
   "source": [
    "try:\n",
    "    compare(\"milk\",\"cheese\")\n",
    "    compare(\"milk\",\"car\")\n",
    "except nx.NodeNotFound:\n",
    "    print(\"Sorry, the node is not prsent in th graph\")"
   ]
  },
  {
   "cell_type": "markdown",
   "metadata": {},
   "source": [
    "#### Community detection\n",
    "\n",
    "We now run a few community detection algorithms on our graph for creating 'groups' of nouns.\n",
    "\n",
    "\n",
    "> When analyzing different networks, it may be important to discover communities inside them. Community detection techniques are useful for social media algorithms to discover people with common interests and keep them tightly connected. Community detection can be used in machine learning to detect groups with similar properties and extract groups for various reasons. For example, this technique can be used to discover manipulative groups inside a social network or a stock market. <i>Community Detection Algorithms, Towards Data Science</i>\n",
    "\n",
    "\n",
    "In this case the community detection models are used to group words together.\n",
    "\n",
    "\n",
    "Example words 'ethnology,cytology,bacteriology' are grouped together while words 'piranha, catfish, fish' are in another group."
   ]
  },
  {
   "cell_type": "code",
   "execution_count": null,
   "metadata": {},
   "outputs": [],
   "source": [
    "import networkx.algorithms.community as nx_comm\n"
   ]
  },
  {
   "cell_type": "markdown",
   "metadata": {},
   "source": [
    "Louvin Community detection\n",
    "\n",
    "\n",
    "Lovian community detection is based on maximizing modularity."
   ]
  },
  {
   "cell_type": "code",
   "execution_count": null,
   "metadata": {},
   "outputs": [
    {
     "name": "stdout",
     "output_type": "stream",
     "text": [
      "1)  feeding,treecreeper,tsetse,fungus,aardvark,scavenger,parasite,\n",
      "2)  abattoir,\n",
      "3)  archbishopric,episcopate,office,incumbency,curacy,magistracy,stationery,precursor,bishopric,papacy,electorate,abbacy,\n",
      "4)  abbé,shaman,celebrant,druid,curé,priesthood,stole,priest,\n",
      "5)  pope,warhead,pate,corgi,head,gurnard,noddle,\n",
      "6)  abbot,abbess,cenobite,abbey,community,ecosystem,coenobite,sisterhood,\n",
      "7)  abdomen,thorax,peritoneum,pubes,\n",
      "8)  insect,caddis-fly,cicada,midge,flea,silverfish,creepy-crawly,cockroach,thrips,aphid,cuckoo-spit,\n",
      "9)  distortion,aberration,\n",
      "10)  sickle-cell,kirby-grip,sanserif,loofah,type,shortcrust,ecstasy,pecan,tannoy,\n"
     ]
    }
   ],
   "source": [
    "com = nx_comm.louvain_communities(G, threshold=10000,resolution=100,seed=21)\n",
    "for i in range(0,10):\n",
    "    print(i+1, end=\")  \")\n",
    "    for j in com[i]:\n",
    "        print(j, end=\",\")\n",
    "    print()\n"
   ]
  },
  {
   "cell_type": "markdown",
   "metadata": {},
   "source": [
    "Greedy Modularity Community Detection\n",
    "\n",
    "\n",
    "This model also maximizes modularity in a greedy way"
   ]
  },
  {
   "cell_type": "code",
   "execution_count": null,
   "metadata": {},
   "outputs": [
    {
     "name": "stdout",
     "output_type": "stream",
     "text": [
      "1)  monkshood,monocotyledon,lichen,jojoba,phlox,lobelia,chive,polyanthus,alfalfa,cryptogam,canna,bougainvillaea,hollyhock,sunflower,arum,calceolaria,cornflower,house-plant,lupin,bryony,anemone,henbane,ice-plant,harebell,liverwort,snapdragon,borage,comfrey,hyssop,plant,cumin,burdock,yucca,stephanotis,flowerpot,fenugreek,aster,dicotyledon,eyebright,coriander,ranunculus,love-lies-bleeding,cow-parsley,moss,petunia,alkaloid,mignonette,spikenard,anise,amaryllis,gloxinia,fly-trap,catmint,arrowroot,willow-herb,endive,angelica,antirrhinum,larkspur,woodruff,fern,coleus,squill,liana,hyacinth,celandine,rock-plant,\n",
      "2)  yttrium,technetium,radon,cadmium,rhenium,chromium,protactinium,rubidium,cobalt,argon,francium,metalloid,lawrencium,krypton,niobium,antimony,nobelium,element,cesium,fluorine,fermium,californium,potassium,gallium,rutherfordium,sodium,curium,plutonium,einsteinium,boron,germanium,selenium,americium,mendelevium,bismuth,tellurium,hahnium,lithium,neptunium,scandium,hafnium,radium,strontium,iodide,\n",
      "3)  being,admittance,falsity,pixie,expulsion,credibility,deliverance,untruth,strangulation,run-out,recovery,companionship,deprivation,prominence,mediocrity,appraisal,vexation,austerity,affiliation,abolition,disturbance,forgiveness,unification,absorption,indentation,inferiority,rivalry,saturation,dependence,crucifixion,desolation,dispersion,donation,sanity,solemnity,solicitude,consignment,susceptibility,sobriety,constancy,\n",
      "4)  caviar,guano,blenny,wrasse,catfish,barracouta,grayling,marlin,bream,burbot,fisher,fisherman,fish,coley,tench,mackerel,stickleback,roach,guppy,loach,angel-fish,hake,dace,caviare,barracuda,ling,barbel,mullet,haddock,sturgeon,piranha,garfish,carp,\n",
      "5)  inhabitant,earthling,settler,geordie,islander,townsman,briton,easterner,dane,native,invader,fatherland,pimento,gaul,northerner,gorilla,fleming,southerner,westerner,israelite,hellene,northman,parishioner,coypu,icelander,colonist,londoner,aborigine,laplander,motherland,ulsterman,yankee,\n",
      "6)  campsite,registry,melting-pot,stud-farm,pilgrim,stowage,rifle-range,lieu,crematorium,hang-out,anchorage,occupant,brickyard,slaughterhouse,cattery,dispensary,seed-bed,solitude,hiding-place,birthplace,shipyard,tannery,slough,parade-ground,heliport,apiary,hideaway,place,arboretum,sanctum,refinery,\n",
      "7)  barmaid,slut,biddy,virago,manageress,shrew,dairymaid,jezebel,laundress,directress,bluestocking,frump,crone,ex-servicewoman,duenna,pudendum,fishwife,fräulein,maenad,frau,slattern,coquette,whore,harridan,madwoman,servicewoman,horsewoman,suffragette,saleswoman,woman,\n",
      "8)  ethnology,sinology,campanology,entomology,zoology,demonology,toxicology,vulcanology,ichthyology,bacteriology,immunology,embryology,ornithology,dendrology,astronomy,anthropology,mineralogy,conchology,philology,oncology,cytology,speleology,zoologist,botany,microbiology,psychopathology,seismology,study,oceanography,virology,\n",
      "9)  longeron,member,mafioso,cleric,brigand,fusilier,trouper,oligarch,ex-serviceman,congressman,paratrooper,celt,brahman,panellist,tribesman,teuton,chorister,pariah,churchman,semite,fieldsman,legionnaire,councillor,aristocrat,chevalier,sikh,panelist,clansman,plutocrat,\n",
      "10)  damsel,owlet,broiler,duckling,cygnet,sow,whitebait,chick,poult,youngster,seakale,princeling,sheila,eaglet,dolly-bird,swan,sloane,gilt,hooligan,teeny-bopper,tearaway,hydrocephalus,sugar-daddy,chicken,young,piglet,fledgling,bimbo,holm,\n"
     ]
    }
   ],
   "source": [
    "com = nx_comm.greedy_modularity_communities(G,resolution=150)\n",
    "for i in range(0,10):\n",
    "    print(i+1, end=\")  \")\n",
    "    for j in com[i]:\n",
    "        print(j, end=\",\")\n",
    "    print()\n"
   ]
  },
  {
   "cell_type": "markdown",
   "metadata": {},
   "source": [
    "Changing parameters"
   ]
  },
  {
   "cell_type": "code",
   "execution_count": null,
   "metadata": {},
   "outputs": [
    {
     "name": "stdout",
     "output_type": "stream",
     "text": [
      "1)  diazepam,methadone,valium,junkie,amphetamine,aconite,antihistamine,drug,tranquillizer,veronal,ephedrine,vermicide,tranquilizer,hallucinogen,marijuana,heroin,\n",
      "2)  flummery,malarkey,nonsense,tommy-rot,bosh,kibosh,tosh,flapdoodle,balderdash,boloney,codswallop,poppycock,bollocks,\n",
      "3)  ennui,lack,indiscipline,disunion,disharmony,scarcity,disrespect,ingratitude,inaction,cowardice,apathy,levity,\n",
      "4)  hosier,fishmonger,dealer,stockist,mercer,bookseller,fruiterer,tobacconist,seedsman,stationer,chandler,draper,\n",
      "5)  laryngitis,nephritis,gastritis,pleurisy,pneumonia,conjunctivitis,inflammation,gingivitis,dysentery,appendicitis,sinusitis,tonsillitis,\n",
      "6)  aurochs,lair,wildlife,devilment,cuckoo-pint,cranesbill,bison,wild,oregano,wart-hog,origan,dog-rose,\n",
      "7)  inhabitant,earthling,londoner,aborigine,laplander,islander,townsman,briton,easterner,yankee,gaul,parishioner,\n",
      "8)  dill,balm,rosemary,marjoram,sorrel,lovage,herb,basil,chervil,tarragon,fennel,\n",
      "9)  humility,misanthropy,torpor,precondition,condition,blood-poisoning,sepsis,diarrhea,eclampsia,asthma,diarrhoea,\n",
      "10)  changeling,urchin,love-child,upbringing,schoolchild,grandchild,bairn,child,suckling,whippersnapper,stepchild,\n"
     ]
    }
   ],
   "source": [
    "com = nx_comm.greedy_modularity_communities(G,resolution=1000)\n",
    "for i in range(0,10):\n",
    "    print(i+1, end=\")  \")\n",
    "    for j in com[i]:\n",
    "        print(j, end=\",\")\n",
    "    print()\n"
   ]
  },
  {
   "cell_type": "markdown",
   "metadata": {},
   "source": [
    "K Clique community Detection Algorithm"
   ]
  },
  {
   "cell_type": "code",
   "execution_count": null,
   "metadata": {},
   "outputs": [
    {
     "name": "stdout",
     "output_type": "stream",
     "text": [
      "1)science,knowledge,theory,subject,\n",
      "2)neighborhood,neighbourhood,vicinity,district,\n",
      "3)organization,establishment,institution,being,\n",
      "4)extent,space,area,territory,\n",
      "5)hair,lock,tress,head,\n",
      "6)radio,tuner,receiver,television,\n",
      "7)corridor,country,territory,state,\n",
      "8)girlfriend,sister,female,filly,girl,daughter,miss,lady,woman,\n",
      "9)theatre,building,theater,area,hall,\n",
      "10)item,thing,event,fact,\n"
     ]
    }
   ],
   "source": [
    "com = nx_comm.k_clique_communities(G,4)  \n",
    "counter=0\n",
    "for i in com:\n",
    "    if (counter>=10):\n",
    "        break\n",
    "    counter=counter+1\n",
    "    print(counter,end=')')\n",
    "    \n",
    "    for j in i:\n",
    "        print(j, end=\",\")\n",
    "    print()\n"
   ]
  },
  {
   "cell_type": "markdown",
   "metadata": {},
   "source": [
    "#### Conclusion.\n",
    "Thus we have completed a lexographical analysis of the distribution of the words in the corpus of the corpus Oxford english dictionary. We have formed a network of nouns extracted from the dictionary. From this graph we have found out the most influential word is \"person\". We also ran a few community detection models on the network. We used the A* path finding algorithm to find the paths between two nouns and calculated the path length.\n",
    "\n",
    "From a general point of view the results obtained from the community detection models do not form very good synsets. The results are somewhat satisfactory. This is a result of the fact that the lexographical analysis is limited to the corpus and the methodology has it's limitations. In order to improve the data, we can extend the dataset to include data from various sources using methods like webscrapping. This can be used to further increase the density of the graph and obtain better results."
   ]
  }
 ],
 "metadata": {
  "kernelspec": {
   "display_name": "Python 3.9.10 ('.venv')",
   "language": "python",
   "name": "python3"
  },
  "language_info": {
   "codemirror_mode": {
    "name": "ipython",
    "version": 3
   },
   "file_extension": ".py",
   "mimetype": "text/x-python",
   "name": "python",
   "nbconvert_exporter": "python",
   "pygments_lexer": "ipython3",
   "version": "3.9.10"
  },
  "orig_nbformat": 4,
  "vscode": {
   "interpreter": {
    "hash": "d157552a624349df6e258544ea527a8e7b0342ecc8b5919d26be0d97026b10cf"
   }
  }
 },
 "nbformat": 4,
 "nbformat_minor": 2
}
